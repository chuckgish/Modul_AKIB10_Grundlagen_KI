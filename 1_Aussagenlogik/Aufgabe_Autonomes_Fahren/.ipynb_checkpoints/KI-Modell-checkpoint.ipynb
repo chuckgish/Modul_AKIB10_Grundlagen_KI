{
 "cells": [
  {
   "cell_type": "code",
   "execution_count": 1,
   "id": "7af1752c-7253-45ac-a5ff-ac59e70efd07",
   "metadata": {},
   "outputs": [],
   "source": [
    "from wissensbasis import *"
   ]
  },
  {
   "cell_type": "code",
   "execution_count": 2,
   "id": "d935becc-f6f0-44a7-9db4-26cf0ef61400",
   "metadata": {},
   "outputs": [
    {
     "name": "stdout",
     "output_type": "stream",
     "text": [
      "Abgeleitete Fakten: {'¬N'}\n"
     ]
    }
   ],
   "source": [
    "# Create the knowledge base\n",
    "wb = erstelle_wissensbasis()\n",
    "\n",
    "# Geben bakannte Fakten ein\n",
    "bekannte_fakten = {AtomareFormel(\"N\")}  # Angenommen, P ist wahr\n",
    "\n",
    "# Apply Modus Ponens\n",
    "inferenz = wende_modus_ponens_an(wb, bekannte_fakten)\n",
    "print(\"Abgeleitete Fakten:\", inferenz)"
   ]
  },
  {
   "cell_type": "code",
   "execution_count": null,
   "id": "87b5774b-452c-460f-85da-7f73855b27a9",
   "metadata": {},
   "outputs": [],
   "source": []
  }
 ],
 "metadata": {
  "kernelspec": {
   "display_name": "Python 3 (ipykernel)",
   "language": "python",
   "name": "python3"
  },
  "language_info": {
   "codemirror_mode": {
    "name": "ipython",
    "version": 3
   },
   "file_extension": ".py",
   "mimetype": "text/x-python",
   "name": "python",
   "nbconvert_exporter": "python",
   "pygments_lexer": "ipython3",
   "version": "3.12.3"
  }
 },
 "nbformat": 4,
 "nbformat_minor": 5
}
