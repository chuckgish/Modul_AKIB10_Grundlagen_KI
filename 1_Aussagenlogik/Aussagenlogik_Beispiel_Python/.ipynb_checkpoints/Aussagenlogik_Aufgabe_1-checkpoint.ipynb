{
 "cells": [
  {
   "cell_type": "code",
   "execution_count": 20,
   "id": "b213491f-e994-4837-a196-204933e1b3e5",
   "metadata": {},
   "outputs": [],
   "source": [
    "from junktoren import *"
   ]
  },
  {
   "cell_type": "markdown",
   "id": "e6327d18-3eca-49a9-947c-b8a6b8c847c0",
   "metadata": {},
   "source": [
    "![title](Dropbox/Teaching/HHN_Grundlagen_KI/Propositional_Logic/20250320_222930.jpg)"
   ]
  },
  {
   "cell_type": "code",
   "execution_count": 21,
   "id": "93d0008c-54ae-422f-bfae-20fd37e2396f",
   "metadata": {},
   "outputs": [
    {
     "data": {
      "text/latex": [
       "Das Programm sollte mit Hilfe der Aussagenlogik erkennen, ob der eingegebene Satz auf Englisch oder Deutsch ist. \n",
       "Dies ist eine einfache Überprüfung, wo die Verben und Substantive im Satz stehen.\n",
       "\n",
       "Zur Unterstützung verwenden wir Listen von Verben und Substantiven. \n",
       "Nachfolgend finden Sie diese Listen - ändern Sie sie nach Belieben, aber die Satzstruktur muss so bleiben, \n",
       "wie sie im Backus-Naur-Format (siehe Bild) definiert ist.\n"
      ],
      "text/plain": [
       "<IPython.core.display.Latex object>"
      ]
     },
     "metadata": {},
     "output_type": "display_data"
    }
   ],
   "source": [
    "%%latex\n",
    "Das Programm sollte mit Hilfe der Aussagenlogik erkennen, ob der eingegebene Satz auf Englisch oder Deutsch ist. \n",
    "Dies ist eine einfache Überprüfung, wo die Verben und Substantive im Satz stehen.\n",
    "\n",
    "Zur Unterstützung verwenden wir Listen von Verben und Substantiven. \n",
    "Nachfolgend finden Sie diese Listen - ändern Sie sie nach Belieben, aber die Satzstruktur muss so bleiben, \n",
    "wie sie im Backus-Naur-Format (siehe Bild) definiert ist."
   ]
  },
  {
   "cell_type": "code",
   "execution_count": 22,
   "id": "f57382ab-4fa5-454b-82f1-8be186779936",
   "metadata": {},
   "outputs": [],
   "source": [
    "nomen_list = [\"spaghetti\", \"ramen\"]\n",
    "verb_list = [\"cook\", \"eat\", \"kochen\", \"essen\"]"
   ]
  },
  {
   "cell_type": "code",
   "execution_count": 23,
   "id": "304dd1d4-21bf-4671-b1ca-a06212dca3fb",
   "metadata": {},
   "outputs": [
    {
     "data": {
      "text/latex": [
       "In der Teamaufgabe wird von Ihnen erwartet, dass Sie Ihre eigenen Formeln, wie z.B. \n",
       "$e \\equiv (\\lnot V \\wedge N)$ und $d \\equiv (V \\wedge \\lnot N)$, unter Verwendung von Junktoren der Aussagenlogik erstellen.\n",
       "Danach werden Sie die Python-Bausteinfunktionen (z.B. Negation(), Konjunktion(), etc.) in 'grundlagenKI.py' verwenden, um die Formeln zu kodieren.\n",
       "Ich habe die Implementierung von $e \\equiv (\\lnot V \\wedge N)$ in der nächsten Zelle angegeben. \n"
      ],
      "text/plain": [
       "<IPython.core.display.Latex object>"
      ]
     },
     "metadata": {},
     "output_type": "display_data"
    }
   ],
   "source": [
    "%%latex\n",
    "In der Teamaufgabe wird von Ihnen erwartet, dass Sie Ihre eigenen Formeln, wie z.B. \n",
    "$e \\equiv (\\lnot V \\wedge N)$ und $d \\equiv (V \\wedge \\lnot N)$, unter Verwendung von Junktoren der Aussagenlogik erstellen.\n",
    "Danach werden Sie die Python-Bausteinfunktionen (z.B. Negation(), Konjunktion(), etc.) in 'grundlagenKI.py' verwenden, um die Formeln zu kodieren.\n",
    "Ich habe die Implementierung von $e \\equiv (\\lnot V \\wedge N)$ in der nächsten Zelle angegeben. "
   ]
  },
  {
   "cell_type": "code",
   "execution_count": 24,
   "id": "939090e1-6fa6-46e0-a179-9be61f025634",
   "metadata": {
    "scrolled": true
   },
   "outputs": [],
   "source": [
    "# z.B - hier ist eine Implenetation von e\n",
    "def formel_e(welt):\n",
    "    ergebnis = konjunktion(negation(welt[\"V\"]), welt[\"N\"])\n",
    "    return ergebnis"
   ]
  },
  {
   "cell_type": "code",
   "execution_count": 25,
   "id": "e3a52adf-7fb4-4bd6-8dbd-74b3d4c98e23",
   "metadata": {},
   "outputs": [
    {
     "data": {
      "text/latex": [
       "Bitte setzen Sie $d \\equiv (V \\wedge \\lnot N)$ in die nächste Zelle ein.\n"
      ],
      "text/plain": [
       "<IPython.core.display.Latex object>"
      ]
     },
     "metadata": {},
     "output_type": "display_data"
    }
   ],
   "source": [
    "%%latex\n",
    "Bitte setzen Sie $d \\equiv (V \\wedge \\lnot N)$ in die nächste Zelle ein."
   ]
  },
  {
   "cell_type": "code",
   "execution_count": 26,
   "id": "4a64b2ea-7a89-4ab9-b348-21e2201dabd5",
   "metadata": {},
   "outputs": [],
   "source": [
    "# Ersetzen '0' mit Ihrer Formel\n",
    "def formel_d(welt):\n",
    "    ergebnis = 0\n",
    "    return ergebnis"
   ]
  },
  {
   "cell_type": "code",
   "execution_count": 27,
   "id": "7d7f7ca8-4865-4a72-bd45-f8b29b8c1b07",
   "metadata": {},
   "outputs": [
    {
     "name": "stdin",
     "output_type": "stream",
     "text": [
      "Enter a sentence:  Can I cook spaghetti?\n"
     ]
    }
   ],
   "source": [
    "woerter_list = satz_woerter()"
   ]
  },
  {
   "cell_type": "code",
   "execution_count": 28,
   "id": "c99fa4d4-fb40-466f-a864-76efff086368",
   "metadata": {},
   "outputs": [
    {
     "data": {
      "text/latex": [
       "Hier ordnen wir den atomaren Formeln $V$ und $N$ Wahrheitswerte zu, um die Welt zu erhalten (z.B $w_1$ oder $w_2$ im Bild oben).\n"
      ],
      "text/plain": [
       "<IPython.core.display.Latex object>"
      ]
     },
     "metadata": {},
     "output_type": "display_data"
    }
   ],
   "source": [
    "%%latex\n",
    "Hier ordnen wir den atomaren Formeln $V$ und $N$ Wahrheitswerte zu, um die Welt zu erhalten (z.B $w_1$ oder $w_2$ im Bild oben)."
   ]
  },
  {
   "cell_type": "code",
   "execution_count": 29,
   "id": "c03006e4-913e-4d45-a944-6c69a5a8c013",
   "metadata": {},
   "outputs": [
    {
     "name": "stdout",
     "output_type": "stream",
     "text": [
      "Die Welt hat den Wharheitswerten V: False und N: True\n"
     ]
    }
   ],
   "source": [
    "welt = welt_verb_nomen(woerter_list, verb_list, nomen_list)\n",
    "print(\"Die Welt hat den Wharheitswerten V: \" +  str(welt[\"V\"]) + \" und N: \" + str(welt[\"N\"]))"
   ]
  },
  {
   "cell_type": "code",
   "execution_count": 30,
   "id": "c578733e-8580-4f12-9bd7-49f19be9415e",
   "metadata": {},
   "outputs": [
    {
     "data": {
      "text/latex": [
       "In der nächsten Zelle definieren wir die Semantik unseres KI-Modells, \n",
       "indem wir der Interpretationsfunktion die von uns definierten Formeln ($e$ und $d$) und die Welten mit unseren Wahrheitswerten übergeben: \n",
       "$I(e, w)$ und $I(d, w)$.\n"
      ],
      "text/plain": [
       "<IPython.core.display.Latex object>"
      ]
     },
     "metadata": {},
     "output_type": "display_data"
    }
   ],
   "source": [
    "%%latex\n",
    "In der nächsten Zelle definieren wir die Semantik unseres KI-Modells, \n",
    "indem wir der Interpretationsfunktion die von uns definierten Formeln ($e$ und $d$) und die Welten mit unseren Wahrheitswerten übergeben: \n",
    "$I(e, w)$ und $I(d, w)$."
   ]
  },
  {
   "cell_type": "code",
   "execution_count": 31,
   "id": "a792c8a3-ba34-42a1-aed8-ac74c43bc461",
   "metadata": {},
   "outputs": [],
   "source": [
    "ist_englisch = interpretations_funktion(formel_e, welt)\n",
    "ist_deutsch = interpretations_funktion(formel_d, welt)"
   ]
  },
  {
   "cell_type": "code",
   "execution_count": 32,
   "id": "2eb8676a-cf84-4145-8ba4-1de984c58730",
   "metadata": {},
   "outputs": [
    {
     "name": "stdout",
     "output_type": "stream",
     "text": [
      "Yes, you can cook spaghetti.\n"
     ]
    }
   ],
   "source": [
    "woerter_satz(woerter_list, ist_englisch, ist_deutsch)"
   ]
  },
  {
   "cell_type": "code",
   "execution_count": null,
   "id": "37085a08-cbf0-4156-93fa-d9a908031b05",
   "metadata": {},
   "outputs": [],
   "source": []
  }
 ],
 "metadata": {
  "kernelspec": {
   "display_name": "Python 3 (ipykernel)",
   "language": "python",
   "name": "python3"
  },
  "language_info": {
   "codemirror_mode": {
    "name": "ipython",
    "version": 3
   },
   "file_extension": ".py",
   "mimetype": "text/x-python",
   "name": "python",
   "nbconvert_exporter": "python",
   "pygments_lexer": "ipython3",
   "version": "3.12.3"
  }
 },
 "nbformat": 4,
 "nbformat_minor": 5
}
