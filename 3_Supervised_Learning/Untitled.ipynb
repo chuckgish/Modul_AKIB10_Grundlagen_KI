{
 "cells": [
  {
   "cell_type": "code",
   "execution_count": 1,
   "id": "581fc4a4-1b2a-4d07-8a52-e9747b5bec56",
   "metadata": {},
   "outputs": [
    {
     "name": "stdout",
     "output_type": "stream",
     "text": [
      "Epoch 0, Loss: 0.2558\n",
      "Epoch 1000, Loss: 0.2494\n",
      "Epoch 2000, Loss: 0.2454\n",
      "Epoch 3000, Loss: 0.2047\n",
      "Epoch 4000, Loss: 0.1532\n",
      "Epoch 5000, Loss: 0.1387\n",
      "Epoch 6000, Loss: 0.1336\n",
      "Epoch 7000, Loss: 0.1312\n",
      "Epoch 8000, Loss: 0.1297\n",
      "Epoch 9000, Loss: 0.1288\n",
      "[[0.05300376]\n",
      " [0.49554286]\n",
      " [0.95091752]\n",
      " [0.50319846]]\n"
     ]
    }
   ],
   "source": [
    "import numpy as np\n",
    "\n",
    "# input and target\n",
    "X = np.array([[0, 0],\n",
    "              [0, 1],\n",
    "              [1, 0],\n",
    "              [1, 1]])\n",
    "\n",
    "y = np.array([[0],\n",
    "              [1],\n",
    "              [1],\n",
    "              [0]])\n",
    "\n",
    "# Sigmoid activation function and derivative\n",
    "def sigmoid(x):\n",
    "    return 1 / (1 + np.exp(-x))\n",
    "\n",
    "def sigmoid_derivative(x):\n",
    "    return x * (1 - x)\n",
    "\n",
    "# Network architecture\n",
    "input_size = 2\n",
    "hidden_size = 2\n",
    "output_size = 1\n",
    "lr = 0.1  # learning rate\n",
    "epochs = 10000\n",
    "\n",
    "# Initialize weights and biases\n",
    "np.random.seed(42)\n",
    "W1 = np.random.randn(input_size, hidden_size)\n",
    "b1 = np.zeros((1, hidden_size))\n",
    "W2 = np.random.randn(hidden_size, output_size)\n",
    "b2 = np.zeros((1, output_size))\n",
    "\n",
    "# Training loop\n",
    "for epoch in range(epochs):\n",
    "    # Forward pass\n",
    "    z1 = np.dot(X, W1) + b1\n",
    "    a1 = sigmoid(z1)\n",
    "\n",
    "    z2 = np.dot(a1, W2) + b2\n",
    "    a2 = sigmoid(z2)\n",
    "\n",
    "    # Compute error\n",
    "    error = y - a2\n",
    "    loss = np.mean(error ** 2)\n",
    "\n",
    "    # Backpropagation\n",
    "    d_output = error * sigmoid_derivative(a2)\n",
    "    d_hidden = np.dot(d_output, W2.T) * sigmoid_derivative(a1)\n",
    "\n",
    "    # Update weights and biases\n",
    "    W2 += np.dot(a1.T, d_output) * lr\n",
    "    b2 += np.sum(d_output, axis=0, keepdims=True) * lr\n",
    "    W1 += np.dot(X.T, d_hidden) * lr\n",
    "    b1 += np.sum(d_hidden, axis=0, keepdims=True) * lr\n",
    "\n",
    "    # Print loss occasionally\n",
    "    if epoch % 1000 == 0:\n",
    "        print(f\"Epoch {epoch}, Loss: {loss:.4f}\")\n",
    "\n",
    "# Test\n",
    "output = sigmoid(np.dot(sigmoid(np.dot(X, W1) + b1), W2) + b2)\n",
    "print(output)\n",
    "#print(\"\\nPredictions:\\n\", output.round())\n"
   ]
  },
  {
   "cell_type": "code",
   "execution_count": null,
   "id": "1def26bc-7d46-482c-8916-7fc03ce3f648",
   "metadata": {},
   "outputs": [],
   "source": []
  }
 ],
 "metadata": {
  "kernelspec": {
   "display_name": "Python 3 (ipykernel)",
   "language": "python",
   "name": "python3"
  },
  "language_info": {
   "codemirror_mode": {
    "name": "ipython",
    "version": 3
   },
   "file_extension": ".py",
   "mimetype": "text/x-python",
   "name": "python",
   "nbconvert_exporter": "python",
   "pygments_lexer": "ipython3",
   "version": "3.12.3"
  }
 },
 "nbformat": 4,
 "nbformat_minor": 5
}
