{
 "cells": [
  {
   "cell_type": "code",
   "execution_count": 1,
   "id": "b6ff91dc-5d26-477c-8958-6137d734d891",
   "metadata": {},
   "outputs": [],
   "source": [
    "import torch\n",
    "\n",
    "# Settings\n",
    "DIM = 10000  # high dimensionality\n",
    "device = \"cuda\" if torch.cuda.is_available() else \"cpu\""
   ]
  },
  {
   "cell_type": "code",
   "execution_count": 2,
   "id": "fb3ae5fe-2e0f-4666-8b1a-8605e9b112fa",
   "metadata": {},
   "outputs": [],
   "source": [
    "# Helper: create random bipolar vector (+1/-1)\n",
    "def random_bipolar(dim):\n",
    "    return torch.where(torch.rand(dim, device=device) > 0.5, 1, -1)\n",
    "\n",
    "# Bind (element-wise multiply)\n",
    "def bind(a, b):\n",
    "    return a * b\n",
    "\n",
    "# Bundle (sum and bipolarize)\n",
    "def bundle(vectors):\n",
    "    s = torch.sum(torch.stack(vectors), dim=0)\n",
    "    return torch.where(s >= 0, 1, -1)\n",
    "\n",
    "# Cosine similarity for classification\n",
    "def similarity(a, b):\n",
    "    a = a.float()\n",
    "    b = b.float()\n",
    "    return torch.dot(a, b) / (torch.norm(a) * torch.norm(b))"
   ]
  },
  {
   "cell_type": "code",
   "execution_count": 3,
   "id": "bb7ef5fa-6277-4ea7-aa2c-90bfa2453899",
   "metadata": {},
   "outputs": [],
   "source": [
    "# Define categories and attributes (in German)\n",
    "categories = [\"Wein\", \"Bier\", \"Limonade\"]\n",
    "attributes = {\n",
    "    \"Farbe\": [\"rot\", \"gelb\", \"klar\", \"braun\", \"grün\"],\n",
    "    \"Geschmack\": [\"süß\", \"bitter\", \"herb\", \"sauer\", \"fruchtig\"],\n",
    "    \"Alkoholgehalt\": [\"alkoholfrei\", \"niedrig\", \"hoch\"],\n",
    "    \"Temperatur\": [\"kalt\", \"warm\"]\n",
    "}\n",
    "\n",
    "# Create random vectors for attribute values and categories\n",
    "attr_vectors = {}\n",
    "for attr, vals in attributes.items():\n",
    "    attr_vectors[attr] = {val: random_bipolar(DIM) for val in vals}\n",
    "cat_vectors = {cat: random_bipolar(DIM) for cat in categories}\n",
    "\n",
    "# Create prototype vectors by binding category with attributes and bundling\n",
    "prototypes = {}\n",
    "\n",
    "# Beispiel für jede Kategorie (kann beliebig erweitert werden)\n",
    "prototypes_data = {\n",
    "    \"Wein\": [(\"Farbe\", \"rot\"), (\"Geschmack\", \"herb\"), (\"Alkoholgehalt\", \"hoch\"), (\"Temperatur\", \"warm\")],\n",
    "    \"Bier\": [(\"Farbe\", \"braun\"), (\"Geschmack\", \"bitter\"), (\"Alkoholgehalt\", \"niedrig\"), (\"Temperatur\", \"kalt\")],\n",
    "    \"Limonade\": [(\"Farbe\", \"klar\"), (\"Geschmack\", \"süß\"), (\"Alkoholgehalt\", \"alkoholfrei\"), (\"Temperatur\", \"kalt\")]\n",
    "}\n",
    "\n",
    "for cat in prototypes_data:\n",
    "    bound_vectors = []\n",
    "    for attr, val in prototypes_data[cat]:\n",
    "        bound_vectors.append(bind(cat_vectors[cat], attr_vectors[attr][val]))\n",
    "    prototypes[cat] = bundle(bound_vectors)\n",
    "\n",
    "# Classification function for a new drink (given attribute values)\n",
    "def classify(drink_attrs):\n",
    "    # Bind category vector with attribute vectors and bundle\n",
    "    # Here, we don’t know category, so we bind attribute vectors only\n",
    "    bound_vectors = []\n",
    "    for attr, val in drink_attrs.items():\n",
    "        bound_vectors.append(attr_vectors[attr][val])\n",
    "    query = bundle(bound_vectors)\n",
    "\n",
    "    # Find category with max similarity\n",
    "    sims = {cat: similarity(query, prototypes[cat]) for cat in categories}\n",
    "    return max(sims, key=sims.get), sims"
   ]
  },
  {
   "cell_type": "code",
   "execution_count": 4,
   "id": "8a26796e-f461-4dff-938f-6b74c02bc6d3",
   "metadata": {},
   "outputs": [
    {
     "name": "stdout",
     "output_type": "stream",
     "text": [
      "Getestetes Getränk: {'Farbe': 'grün', 'Geschmack': 'fruchtig', 'Alkoholgehalt': 'alkoholfrei', 'Temperatur': 'kalt'}\n",
      "Vorhergesagte Kategorie: Limonade\n",
      "  Wein: 0.1434\n",
      "  Bier: 0.1340\n",
      "  Limonade: 0.1520\n",
      "\n",
      "Getestetes Getränk: {'Farbe': 'braun', 'Geschmack': 'bitter', 'Alkoholgehalt': 'hoch', 'Temperatur': 'kalt'}\n",
      "Vorhergesagte Kategorie: Bier\n",
      "  Wein: 0.1312\n",
      "  Bier: 0.1902\n",
      "  Limonade: 0.1482\n",
      "\n",
      "Getestetes Getränk: {'Farbe': 'rot', 'Geschmack': 'sauer', 'Alkoholgehalt': 'alkoholfrei', 'Temperatur': 'warm'}\n",
      "Vorhergesagte Kategorie: Wein\n",
      "  Wein: 0.1704\n",
      "  Bier: 0.1126\n",
      "  Limonade: 0.1414\n",
      "\n"
     ]
    }
   ],
   "source": [
    "# Neue unbekannte Getränke (Kombinationen, die nicht exakt den Prototypen entsprechen)\n",
    "test_drinks = [\n",
    "    {\"Farbe\": \"grün\", \"Geschmack\": \"fruchtig\", \"Alkoholgehalt\": \"alkoholfrei\", \"Temperatur\": \"kalt\"},  # wahrscheinlich Limonade\n",
    "    {\"Farbe\": \"braun\", \"Geschmack\": \"bitter\", \"Alkoholgehalt\": \"hoch\", \"Temperatur\": \"kalt\"},        # Mischtyp Bier/Wein\n",
    "    {\"Farbe\": \"rot\", \"Geschmack\": \"sauer\", \"Alkoholgehalt\": \"alkoholfrei\", \"Temperatur\": \"warm\"},    # ungewöhnlich, evtl. keine klare Zuordnung\n",
    "]\n",
    "\n",
    "for drink in test_drinks:\n",
    "    predicted, sims = classify(drink)\n",
    "    print(f\"Getestetes Getränk: {drink}\")\n",
    "    print(f\"Vorhergesagte Kategorie: {predicted}\")\n",
    "    for cat, sim in sims.items():\n",
    "        print(f\"  {cat}: {sim:.4f}\")\n",
    "    print()"
   ]
  },
  {
   "cell_type": "code",
   "execution_count": 8,
   "id": "d15ced75-906c-430b-a3d1-c96a85517dec",
   "metadata": {},
   "outputs": [
    {
     "name": "stdout",
     "output_type": "stream",
     "text": [
      "Getestetes Getränk: {'Farbe': 'grün', 'Geschmack': 'fruchtig', 'Alkoholgehalt': 'alkoholfrei', 'Temperatur': 'warm'}\n",
      "Vorhergesagte Kategorie: Limonade\n",
      "  Wein: 0.1396\n",
      "  Bier: 0.1198\n",
      "  Limonade: 0.1410\n",
      "\n",
      "Getestetes Getränk: {'Farbe': 'grün', 'Geschmack': 'fruchtig', 'Alkoholgehalt': 'niedrig', 'Temperatur': 'kalt'}\n",
      "Vorhergesagte Kategorie: Bier\n",
      "  Wein: 0.1480\n",
      "  Bier: 0.1498\n",
      "  Limonade: 0.1422\n",
      "\n",
      "Getestetes Getränk: {'Farbe': 'grün', 'Geschmack': 'herb', 'Alkoholgehalt': 'alkoholfrei', 'Temperatur': 'kalt'}\n",
      "Vorhergesagte Kategorie: Limonade\n",
      "  Wein: 0.1374\n",
      "  Bier: 0.1388\n",
      "  Limonade: 0.1548\n",
      "\n",
      "Getestetes Getränk: {'Farbe': 'klar', 'Geschmack': 'fruchtig', 'Alkoholgehalt': 'alkoholfrei', 'Temperatur': 'kalt'}\n",
      "Vorhergesagte Kategorie: Limonade\n",
      "  Wein: 0.1468\n",
      "  Bier: 0.1350\n",
      "  Limonade: 0.1862\n",
      "\n"
     ]
    }
   ],
   "source": [
    "# Geänderte Attributes für: 'wahrscheinlich Limonade'\n",
    "test_drinks = [\n",
    "    {\"Farbe\": \"grün\", \"Geschmack\": \"fruchtig\", \"Alkoholgehalt\": \"alkoholfrei\", \"Temperatur\": \"warm\"}, # Temperatur geändert\n",
    "    {\"Farbe\": \"grün\", \"Geschmack\": \"fruchtig\", \"Alkoholgehalt\": \"niedrig\", \"Temperatur\": \"kalt\"}, # Alkoholgehalt geändert\n",
    "    {\"Farbe\": \"grün\", \"Geschmack\": \"herb\", \"Alkoholgehalt\": \"alkoholfrei\", \"Temperatur\": \"kalt\"}, # Geschmack geändert\n",
    "    {\"Farbe\": \"klar\", \"Geschmack\": \"fruchtig\", \"Alkoholgehalt\": \"alkoholfrei\", \"Temperatur\": \"kalt\"} # Farbe geändert\n",
    "]\n",
    "\n",
    "for drink in test_drinks:\n",
    "    predicted, sims = classify(drink)\n",
    "    print(f\"Getestetes Getränk: {drink}\")\n",
    "    print(f\"Vorhergesagte Kategorie: {predicted}\")\n",
    "    for cat, sim in sims.items():\n",
    "        print(f\"  {cat}: {sim:.4f}\")\n",
    "    print()"
   ]
  },
  {
   "cell_type": "code",
   "execution_count": null,
   "id": "79405f48-5348-4437-a4db-9d25f9abd1c7",
   "metadata": {},
   "outputs": [],
   "source": []
  }
 ],
 "metadata": {
  "kernelspec": {
   "display_name": "Python 3 (ipykernel)",
   "language": "python",
   "name": "python3"
  },
  "language_info": {
   "codemirror_mode": {
    "name": "ipython",
    "version": 3
   },
   "file_extension": ".py",
   "mimetype": "text/x-python",
   "name": "python",
   "nbconvert_exporter": "python",
   "pygments_lexer": "ipython3",
   "version": "3.12.3"
  }
 },
 "nbformat": 4,
 "nbformat_minor": 5
}
