{
 "cells": [
  {
   "cell_type": "code",
   "execution_count": 9,
   "id": "801db9fe-479e-4d9b-ab1d-1d73566768bd",
   "metadata": {},
   "outputs": [],
   "source": [
    "# Install if needed\n",
    "#!pip install rdflib\n",
    "#!pip install networkx"
   ]
  },
  {
   "cell_type": "code",
   "execution_count": 10,
   "id": "9f78ed20-fb3d-407e-b0dd-e88bf5b43a60",
   "metadata": {},
   "outputs": [],
   "source": [
    "# Import von rdflib, networkx und andere libraries\n",
    "from rdflib import Graph, Namespace, RDF\n",
    "import networkx as nx\n",
    "from collections import deque\n",
    "import matplotlib.pyplot as plt"
   ]
  },
  {
   "cell_type": "code",
   "execution_count": 11,
   "id": "65d03e40-7ae6-46e3-ade9-39c1fc0480ad",
   "metadata": {},
   "outputs": [],
   "source": [
    "# === 4. BFS with class filtering ===\n",
    "def bfs_with_class_filter(G, start_node, target_class_uri):\n",
    "    visited = set()\n",
    "    queue = deque([start_node])\n",
    "    matched_nodes = []\n",
    "\n",
    "    while queue:\n",
    "        node = queue.popleft()\n",
    "        if node in visited:\n",
    "            continue\n",
    "        visited.add(node)\n",
    "\n",
    "        if G.nodes[node].get('class') == target_class_uri:\n",
    "            matched_nodes.append(node)\n",
    "\n",
    "        for neighbor in G.neighbors(node):\n",
    "            if neighbor not in visited:\n",
    "                queue.append(neighbor)\n",
    "\n",
    "    return matched_nodes"
   ]
  },
  {
   "cell_type": "code",
   "execution_count": 13,
   "id": "a800e662-2299-4fed-a428-cee5f634e00c",
   "metadata": {},
   "outputs": [],
   "source": [
    "# Gerichtete Graph erstellen\n",
    "def graph_from_rdf(g):\n",
    "    \n",
    "    G = nx.DiGraph()\n",
    "    \n",
    "    # Extract rdf:type information\n",
    "    types = {}\n",
    "    for s, p, o in g:\n",
    "        if p == RDF.type:\n",
    "            types[str(s)] = str(o)\n",
    "    \n",
    "    # Add all triples except rdf:type as edges\n",
    "    for s, p, o in g:\n",
    "        s_str, o_str, p_str = str(s), str(o), str(p)\n",
    "        G.add_edge(s_str, o_str, label=p_str)\n",
    "    \n",
    "    # Add node classes as attributes\n",
    "    for node in G.nodes:\n",
    "        G.nodes[node]['class'] = types.get(node, None)\n",
    "\n",
    "    # === 3. Show the entire KG ===\n",
    "    print(\"Knowledge Graph:\")\n",
    "    for u, v, d in G.edges(data=True):\n",
    "        label = d['label'].split(\"/\")[-1]\n",
    "        print(f\"{u.split('/')[-1]} --[{label}]--> {v.split('/')[-1]}\")\n",
    "\n",
    "    \n",
    "    return G"
   ]
  },
  {
   "cell_type": "code",
   "execution_count": 12,
   "id": "c9b15333-37d2-441e-846b-b693e5e80946",
   "metadata": {
    "scrolled": true
   },
   "outputs": [
    {
     "data": {
      "text/plain": [
       "<Graph identifier=N1a076c7967474e7caae2ed6b925442d0 (<class 'rdflib.graph.Graph'>)>"
      ]
     },
     "execution_count": 12,
     "metadata": {},
     "output_type": "execute_result"
    }
   ],
   "source": [
    "g = Graph()\n",
    "\n",
    "# Namespace definieren\n",
    "SC = Namespace(\"http://example.org/\")\n",
    "\n",
    "# Triples\n",
    "g.add((SC.supplyChain1, RDF.type, SC.SupplyChain))\n",
    "g.add((SC.teilzulieferer, RDF.type, SC.Firma))\n",
    "g.add((SC.hersteller, RDF.type, SC.Firma))\n",
    "g.add((SC.valueStreamHersteller, RDF.type, SC.ValueStream))\n",
    "\n",
    "g.add((SC.hersteller, SC.istTeilVon, SC.supplyChain1))\n",
    "g.add((SC.valueStreamHersteller, SC.istTeilVon, SC.hersteller))"
   ]
  },
  {
   "cell_type": "code",
   "execution_count": 14,
   "id": "679ca085-ebb2-48a5-9bde-6642ed961326",
   "metadata": {},
   "outputs": [
    {
     "name": "stdout",
     "output_type": "stream",
     "text": [
      "Knowledge Graph:\n",
      "supplyChain1 --[22-rdf-syntax-ns#type]--> SupplyChain\n",
      "hersteller --[22-rdf-syntax-ns#type]--> Firma\n",
      "hersteller --[istTeilVon]--> supplyChain1\n",
      "valueStreamHersteller --[istTeilVon]--> hersteller\n",
      "valueStreamHersteller --[22-rdf-syntax-ns#type]--> ValueStream\n",
      "teilzulieferer --[22-rdf-syntax-ns#type]--> Firma\n"
     ]
    }
   ],
   "source": [
    "G = graph_from_rdf(g)"
   ]
  },
  {
   "cell_type": "code",
   "execution_count": 15,
   "id": "c7ae87fa-8c78-4f93-98b6-6dfbf93b1618",
   "metadata": {},
   "outputs": [
    {
     "name": "stdout",
     "output_type": "stream",
     "text": [
      "BFS Result (full URIs): ['http://example.org/valueStreamHersteller']\n"
     ]
    }
   ],
   "source": [
    "start_node = str(SC.supplyChain1)\n",
    "target_class = str(SC.ValueStream)\n",
    "\n",
    "# Rückwarts traversal BFS\n",
    "rwarts_G = G.reverse()\n",
    "\n",
    "results = bfs_with_class_filter(rwarts_G, start_node, target_class)\n",
    "\n",
    "print(\"BFS Result (full URIs):\", results)"
   ]
  },
  {
   "cell_type": "code",
   "execution_count": null,
   "id": "46dc433d-c9ec-4ba8-89bf-af75ffa78c2a",
   "metadata": {},
   "outputs": [],
   "source": []
  }
 ],
 "metadata": {
  "kernelspec": {
   "display_name": "Python 3 (ipykernel)",
   "language": "python",
   "name": "python3"
  },
  "language_info": {
   "codemirror_mode": {
    "name": "ipython",
    "version": 3
   },
   "file_extension": ".py",
   "mimetype": "text/x-python",
   "name": "python",
   "nbconvert_exporter": "python",
   "pygments_lexer": "ipython3",
   "version": "3.12.3"
  }
 },
 "nbformat": 4,
 "nbformat_minor": 5
}
