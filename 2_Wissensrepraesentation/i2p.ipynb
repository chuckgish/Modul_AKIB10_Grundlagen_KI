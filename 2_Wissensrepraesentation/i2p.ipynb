{
 "cells": [
  {
   "cell_type": "code",
   "execution_count": 1,
   "id": "73d1474c-a40f-4bdf-a496-bfd7893a6d6e",
   "metadata": {},
   "outputs": [
    {
     "name": "stdout",
     "output_type": "stream",
     "text": [
      "x = 5\n"
     ]
    }
   ],
   "source": [
    "# Java vs. Python \n",
    "\n",
    "# Java\n",
    "'''\n",
    "public class Hello {\n",
    "  public static void main(String[] args) {\n",
    "    int x = 5;\n",
    "    System.out.println(\"x = \" + x);\n",
    "  }\n",
    "}\n",
    "'''\n",
    "\n",
    "# Python\n",
    "\n",
    "x = 5\n",
    "print(\"x =\", x)"
   ]
  },
  {
   "cell_type": "code",
   "execution_count": 2,
   "id": "94109c34-de35-434e-bfcd-bfc92dd7b747",
   "metadata": {},
   "outputs": [
    {
     "name": "stdout",
     "output_type": "stream",
     "text": [
      "2.798 hey\n"
     ]
    }
   ],
   "source": [
    "# Variabeln sind dynamische typisiert\n",
    "\n",
    "# float\n",
    "x = 2.798\n",
    "\n",
    "# str\n",
    "hey = \"hey\"\n",
    "\n",
    "print(x, hey)"
   ]
  },
  {
   "cell_type": "code",
   "execution_count": 9,
   "id": "12d71c1a-9607-4301-ae3d-3491899d9eac",
   "metadata": {},
   "outputs": [
    {
     "name": "stdout",
     "output_type": "stream",
     "text": [
      "['Hendrik', 'Bob', 'Heike']\n",
      "['Hendrik', 'Heike']\n"
     ]
    }
   ],
   "source": [
    "# list ist eine dynamisches Array (wie ArrayList in Java)\n",
    "\n",
    "namen = ['Hendrik', 'Bob']\n",
    "\n",
    "# neuer Name zufügen \n",
    "namen.append('Heike')\n",
    "\n",
    "print(namen)\n",
    "\n",
    "#del namen[1]\n",
    "namen.remove('Bob')\n",
    "#namen.pop()\n",
    "\n",
    "\n",
    "\n",
    "print(namen)\n",
    "\n"
   ]
  },
  {
   "cell_type": "code",
   "execution_count": 16,
   "id": "0f6e8e9f-0446-478f-8c36-a025bc7a6b91",
   "metadata": {},
   "outputs": [
    {
     "name": "stdout",
     "output_type": "stream",
     "text": [
      "HHN TUM\n"
     ]
    }
   ],
   "source": [
    "# dict ist eine Schlüssel-Wert-Paare Datenstruktur (wie Map in Java)\n",
    "\n",
    "namen_unis = {'Hendrik': 'HHN', 'Bob': 'TUM', 'Heike': 'KIT'}\n",
    "\n",
    "# Der Wert, der der Uni von Hendrik entspricht, kann über den Schlüssel „Hendrik“ abgerufen werden.\n",
    "uni_hendrik = namen_unis['Hendrik']\n",
    "\n",
    "print(uni_hendrik, namen_unis['Bob'])"
   ]
  },
  {
   "cell_type": "code",
   "execution_count": 18,
   "id": "a4589720-c0e4-4319-9ce8-7a3e6ec9f1d9",
   "metadata": {},
   "outputs": [
    {
     "name": "stdout",
     "output_type": "stream",
     "text": [
      "Hendrik studiert an HHN\n",
      "HHN\n",
      "KIT\n",
      "1\n",
      "2\n",
      "3\n"
     ]
    }
   ],
   "source": [
    "# Kontrollstrukturen\n",
    "\n",
    "# Bedingungen (if/else)\n",
    "if (namen_unis['Hendrik'] == 'TUM'):\n",
    "    print(\"Hendrik studiert an TUM\")\n",
    "elif (namen_unis['Hendrik'] == 'KIT'):\n",
    "    print(\"Hendrik studiert an KIT\")\n",
    "else:\n",
    "    print(\"Hendrik studiert an HHN\")\n",
    "\n",
    "# Schleife (for)\n",
    "for name in namen:\n",
    "    print(namen_unis[name])\n",
    "\n",
    "# Schleife (while)\n",
    "i = 1\n",
    "while i <= 3:\n",
    "    print(i)\n",
    "    i += 1"
   ]
  },
  {
   "cell_type": "code",
   "execution_count": 19,
   "id": "63f6d2bb-dc22-45e9-b53e-0144578f1ea9",
   "metadata": {
    "scrolled": true
   },
   "outputs": [
    {
     "name": "stdout",
     "output_type": "stream",
     "text": [
      "4\n",
      "2^2 ist: 4\n"
     ]
    }
   ],
   "source": [
    "# Funktionen - Kein return typ nötig, kann mehrere Werten zurückgeben\n",
    "\n",
    "def square(x):\n",
    "    return x*x\n",
    "\n",
    "def string_und_square(x):\n",
    "    return (str(x) + '^2 ist:'), square(x)\n",
    "\n",
    "print(square(2))\n",
    "\n",
    "string, nummer = string_und_square(2)\n",
    "print(string, nummer)"
   ]
  },
  {
   "cell_type": "code",
   "execution_count": 21,
   "id": "719bde95-fa8d-49b1-ae6a-13bb0ed4a9ea",
   "metadata": {},
   "outputs": [
    {
     "data": {
      "text/plain": [
       "10"
      ]
     },
     "execution_count": 21,
     "metadata": {},
     "output_type": "execute_result"
    }
   ],
   "source": [
    "def addieren(x, y):\n",
    "    return x + y\n",
    "\n",
    "addieren(4, 6)"
   ]
  },
  {
   "cell_type": "code",
   "execution_count": 22,
   "id": "a2d42501-1248-4812-bc83-2ca7d1145d44",
   "metadata": {},
   "outputs": [
    {
     "name": "stdout",
     "output_type": "stream",
     "text": [
      "Hallo, mein Name ist Hendrik und ich bin 20 Jahre alt.\n"
     ]
    }
   ],
   "source": [
    "# Klassen - In Python-Klassen wird „self“ explizit verwendet - es wird direkt im anweisung verwendet.\n",
    "\n",
    "# Java - Student Klasse\n",
    "'''\n",
    "public class Student {\n",
    "  String name;\n",
    "  int alter;\n",
    "  Student(String name, int alter) {\n",
    "    this.name = name;\n",
    "    this.alter = alter;\n",
    "  }\n",
    "\n",
    "  void begruessen() {\n",
    "    System.out.println(\"Hallo, mein Name ist \" + name + \" und ich bin \" + alter + \"Jahre alt\");\n",
    "  }\n",
    "}\n",
    "'''\n",
    "\n",
    "# Python - Student Klasse\n",
    "\n",
    "class Student:\n",
    "    def __init__(self, name, alter):\n",
    "        self.name = name\n",
    "        self.alter = alter\n",
    "\n",
    "    def begruessen(self):\n",
    "        print(\"Hallo, mein Name ist \" + self.name + \" und ich bin \" + self.alter + \" Jahre alt.\")\n",
    "\n",
    "\n",
    "hendrik = Student('Hendrik', '20')\n",
    "hendrik.begruessen()"
   ]
  },
  {
   "cell_type": "code",
   "execution_count": null,
   "id": "3ea26995-793d-406b-9489-79c85c526f65",
   "metadata": {},
   "outputs": [],
   "source": []
  }
 ],
 "metadata": {
  "kernelspec": {
   "display_name": "Python 3 (ipykernel)",
   "language": "python",
   "name": "python3"
  },
  "language_info": {
   "codemirror_mode": {
    "name": "ipython",
    "version": 3
   },
   "file_extension": ".py",
   "mimetype": "text/x-python",
   "name": "python",
   "nbconvert_exporter": "python",
   "pygments_lexer": "ipython3",
   "version": "3.12.3"
  }
 },
 "nbformat": 4,
 "nbformat_minor": 5
}
